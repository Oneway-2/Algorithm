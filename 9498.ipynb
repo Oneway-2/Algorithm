{
 "metadata": {
  "language_info": {
   "codemirror_mode": {
    "name": "ipython",
    "version": 3
   },
   "file_extension": ".py",
   "mimetype": "text/x-python",
   "name": "python",
   "nbconvert_exporter": "python",
   "pygments_lexer": "ipython3",
   "version": "3.9.4"
  },
  "orig_nbformat": 2,
  "kernelspec": {
   "name": "python394jvsc74a57bd0817ce0bf5275c869ea428ba444ef2e36e3ab5bf089b3c97e44c180bff6798706",
   "display_name": "Python 3.9.4 64-bit"
  },
  "metadata": {
   "interpreter": {
    "hash": "817ce0bf5275c869ea428ba444ef2e36e3ab5bf089b3c97e44c180bff6798706"
   }
  }
 },
 "nbformat": 4,
 "nbformat_minor": 2,
 "cells": [
  {
   "cell_type": "code",
   "execution_count": 7,
   "metadata": {},
   "outputs": [
    {
     "output_type": "stream",
     "name": "stdout",
     "text": [
      "B\n"
     ]
    }
   ],
   "source": [
    "grade = int(input())\n",
    "if grade >= 90 and grade <= 100:\n",
    "    print(\"A\")\n",
    "elif grade >= 80 and grade <= 89:\n",
    "    print(\"B\")    \n",
    "elif grade >= 70 and grade <= 79:\n",
    "    print(\"C\")    \n",
    "elif grade >= 60 and grade <= 69:\n",
    "    print(\"D\")\n",
    "else:\n",
    "    print(\"F\")"
   ]
  },
  {
   "cell_type": "code",
   "execution_count": null,
   "metadata": {},
   "outputs": [],
   "source": [
    "# 시험 점수를 입력받아 90 ~ 100점은 A, 80 ~ 89점은 B, 70 ~ 79점은 C, 60 ~ 69점은 D, 나머지 점수는 F를 출력하는 프로그램을 작성하시오."
   ]
  }
 ]
}