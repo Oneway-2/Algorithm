{
 "metadata": {
  "language_info": {
   "codemirror_mode": {
    "name": "ipython",
    "version": 3
   },
   "file_extension": ".py",
   "mimetype": "text/x-python",
   "name": "python",
   "nbconvert_exporter": "python",
   "pygments_lexer": "ipython3",
   "version": "3.9.4"
  },
  "orig_nbformat": 2,
  "kernelspec": {
   "name": "python394jvsc74a57bd0817ce0bf5275c869ea428ba444ef2e36e3ab5bf089b3c97e44c180bff6798706",
   "display_name": "Python 3.9.4 64-bit"
  },
  "metadata": {
   "interpreter": {
    "hash": "817ce0bf5275c869ea428ba444ef2e36e3ab5bf089b3c97e44c180bff6798706"
   }
  }
 },
 "nbformat": 4,
 "nbformat_minor": 2,
 "cells": [
  {
   "cell_type": "code",
   "execution_count": null,
   "metadata": {},
   "outputs": [],
   "source": [
    "# 0보다 크거나 같고, 99보다 작거나 같은 정수가 주어질 때 다음과 같은 연산을 할 수 있다. \n",
    "\n",
    "# 먼저 주어진 수가 10보다 작다면 앞에 0을 붙여 두 자리 수로 만들고, 각 자리의 숫자를 더한다. \n",
    "# 그 다음, 주어진 수의 가장 오른쪽 자리 수와 앞에서 구한 합의 가장 오른쪽 자리 수를 이어 붙이면 새로운 수를 만들 수 있다. 다음 예를 보자.\n",
    "\n",
    "# 26부터 시작한다. 2+6 = 8이다. 새로운 수는 68이다. 6+8 = 14이다. 새로운 수는 84이다. 8+4 = 12이다. 새로운 수는 42이다. 4+2 = 6이다. 새로운 수는 26이다.\n",
    "\n",
    "# 위의 예는 4번만에 원래 수로 돌아올 수 있다. 따라서 26의 사이클의 길이는 4이다.\n",
    "\n",
    "# N이 주어졌을 때, N의 사이클의 길이를 구하는 프로그램을 작성하시오."
   ]
  },
  {
   "cell_type": "code",
   "execution_count": 37,
   "metadata": {},
   "outputs": [
    {
     "output_type": "stream",
     "name": "stdout",
     "text": [
      "1\n"
     ]
    }
   ],
   "source": [
    "def loop(x10, x1, ox10, ox1, length):\n",
    "    y10 = x1\n",
    "    y1 = (x10+x1)%10 \n",
    "    length += 1\n",
    "    if y10 == ox10 and y1 == ox1:\n",
    "        print(length)\n",
    "        return \n",
    "    else:\n",
    "        loop(y10, y1, ox10, ox1, length)\n",
    "\n",
    "x = int(input())\n",
    "if x < 10:\n",
    "    x *= 10\n",
    "length = 0\n",
    "\n",
    "x10 = x//10 \n",
    "x1 = x%10 \n",
    "ox10, ox1 = x10, x1  \n",
    "\n",
    "loop(x10, x1, ox10, ox1, length)  "
   ]
  },
  {
   "cell_type": "code",
   "execution_count": null,
   "metadata": {},
   "outputs": [],
   "source": [
    "# 테스트용\n",
    "\n",
    "# def loop(x10, x1, ox10, ox1, length): # 2 6\n",
    "#     y10 = x1\n",
    "#     y1 = (x10+x1)%10 \n",
    "#     length += 1\n",
    "#     print(length,\"번째 \", \"y10:\",y10,\" y1:\",y1)\n",
    "#     if y10 == ox10 and y1 == ox1:\n",
    "#         print(length)\n",
    "#         return \n",
    "#     else:\n",
    "#         loop(y10, y1, ox10, ox1, length)\n",
    "\n",
    "\n",
    "# x = int(input())\n",
    "# if x < 10:\n",
    "#     x *= 10\n",
    "# length = 0\n",
    "# print(\"입력한 수: \", x)\n",
    "\n",
    "# x10 = x//10 # 초기 1자리수 2\n",
    "# x1 = x%10 # 초기 2자리수 6\n",
    "# ox10, ox1 = x10, x1  # 가장 초기 2 6\n",
    "\n",
    "# loop(x10, x1, ox10, ox1, length)  # 두 개의 자리수 가지고 들어감 2 6"
   ]
  }
 ]
}