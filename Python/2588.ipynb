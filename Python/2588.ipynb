{
 "metadata": {
  "language_info": {
   "codemirror_mode": {
    "name": "ipython",
    "version": 3
   },
   "file_extension": ".py",
   "mimetype": "text/x-python",
   "name": "python",
   "nbconvert_exporter": "python",
   "pygments_lexer": "ipython3",
   "version": "3.9.4"
  },
  "orig_nbformat": 2,
  "kernelspec": {
   "name": "python394jvsc74a57bd0817ce0bf5275c869ea428ba444ef2e36e3ab5bf089b3c97e44c180bff6798706",
   "display_name": "Python 3.9.4 64-bit"
  },
  "metadata": {
   "interpreter": {
    "hash": "817ce0bf5275c869ea428ba444ef2e36e3ab5bf089b3c97e44c180bff6798706"
   }
  }
 },
 "nbformat": 4,
 "nbformat_minor": 2,
 "cells": [
  {
   "cell_type": "code",
   "execution_count": 31,
   "metadata": {},
   "outputs": [
    {
     "output_type": "stream",
     "name": "stdout",
     "text": [
      "1368\n912\n456\n56088\n"
     ]
    }
   ],
   "source": [
    "nb1 = int(input())\n",
    "nb2 = int(input())\n",
    "\n",
    "def seperate(number):\n",
    "    nb1 = number//100\n",
    "    nb2 = number%100//10\n",
    "    nb3 = number%10\n",
    "    return nb1, nb2, nb3\n",
    "\n",
    "s_nb2 = list(seperate(nb2))\n",
    "\n",
    "result1 = nb1 * s_nb2[2]\n",
    "result2 = nb1 * s_nb2[1]\n",
    "result3 = nb1 * s_nb2[0]\n",
    "result4 = nb1 * nb2\n",
    "\n",
    "print(result1)\n",
    "print(result2)\n",
    "print(result3)\n",
    "print(result4)"
   ]
  }
 ]
}