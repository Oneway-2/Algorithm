{
 "cells": [
  {
   "cell_type": "code",
   "execution_count": null,
   "metadata": {},
   "outputs": [],
   "source": [
    "# 입력\n",
    "# 첫째 줄에 두 정수 H와 M이 주어진다. (0 ≤ H ≤ 23, 0 ≤ M ≤ 59) 그리고 이것은 현재 상근이가 설정한 놓은 \n",
    "# 알람 시간 H시 M분을 의미한다.\n",
    "\n",
    "# 입력 시간은 24시간 표현을 사용한다. 24시간 표현에서 하루의 시작은 0:0(자정)이고, \n",
    "# 끝은 23:59(다음날 자정 1분 전)이다. 시간을 나타낼 때, 불필요한 0은 사용하지 않는다.\n",
    "\n",
    "# 출력\n",
    "# 첫째 줄에 상근이가 창영이의 방법을 사용할 때, 설정해야 하는 알람 시간을 출력한다. (입력과 같은 형태로 출력하면 된다.)"
   ]
  },
  {
   "cell_type": "code",
   "execution_count": 44,
   "metadata": {},
   "outputs": [
    {
     "name": "stdout",
     "output_type": "stream",
     "text": [
      "00 30\n",
      "23 45\n"
     ]
    }
   ],
   "source": [
    "H, M = map(int,input().split())\n",
    "\n",
    "seconds = H * 3600 + M * 60\n",
    "new_seconds = seconds - 2700\n",
    "\n",
    "if(new_seconds < 0):\n",
    "    new_seconds += 86400\n",
    "\n",
    "new_H = new_seconds // 3600\n",
    "new_M = new_seconds % 3600 // 60\n",
    "\n",
    "print(\"{} {}\".format(new_H, new_M))"
   ]
  },
  {
   "cell_type": "code",
   "execution_count": null,
   "metadata": {},
   "outputs": [],
   "source": [
    "# 하루 24시간을 초로 바꾸면\n",
    "# 24 * 60 * 60 = 86400\n",
    "\n",
    "# 10시 10분은\n",
    "# 10 * 3600 + 10 * 60 = 36600\n",
    "\n",
    "# 거기서 45분 빼면\n",
    "# 36600 - 2700 = 33900\n",
    "\n",
    "# 33900을 시간과 초로 다시 바꾸려면\n",
    "# (시간) 33900 // 3600 = 9\n",
    "# (분) 33900 % 3600 // 60 = 25\n",
    "\n",
    "# 10시 10분에서 45분 뺀 시간은 9시 25분\n",
    "\n",
    "# =========\n",
    "\n",
    "# 0시 25분은\n",
    "# 0 * 3600 + 25 * 60 = 1500\n",
    "\n",
    "# 거기서 45분 빼면 마이너스잖아\n",
    "# 1500 - 2700 = -1200\n",
    "\n",
    "# 그런경우 86400를 더해준다.\n",
    "# -1200 + 86400 = 85200\n",
    "\n",
    "# 그걸 시간과 초로 바꾸면\n",
    "# (시간) 85200 // 3600 = 23\n",
    "# (분) 85200 % 3600 // 60 = 40\n",
    "\n",
    "# 0시 25분에서 45분 뺀 시간은 23시 40분"
   ]
  }
 ],
 "metadata": {
  "kernelspec": {
   "display_name": "Python 3",
   "language": "python",
   "name": "python3"
  },
  "language_info": {
   "codemirror_mode": {
    "name": "ipython",
    "version": 3
   },
   "file_extension": ".py",
   "mimetype": "text/x-python",
   "name": "python",
   "nbconvert_exporter": "python",
   "pygments_lexer": "ipython3",
   "version": "3.7.5"
  }
 },
 "nbformat": 4,
 "nbformat_minor": 2
}
